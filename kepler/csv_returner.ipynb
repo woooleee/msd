{
 "cells": [
  {
   "cell_type": "code",
   "execution_count": 38,
   "metadata": {},
   "outputs": [],
   "source": [
    "import pandas as pd\n",
    "import geopandas as gpd\n",
    "import os\n",
    "import constant as c\n",
    "from shapely.wkt import loads\n",
    "SSD_PATH = '/Volumes/T7/asset/'\n",
    "fpath = os.path.join(SSD_PATH,'bdmaster/F_FAC_BUILDING_서울/F_FAC_BUILDING_11_202303.shp')"
   ]
  },
  {
   "cell_type": "code",
   "execution_count": 39,
   "metadata": {},
   "outputs": [
    {
     "data": {
      "text/plain": [
       "['11140', '11110', '11650', '11680', '11560']"
      ]
     },
     "execution_count": 39,
     "metadata": {},
     "output_type": "execute_result"
    }
   ],
   "source": [
    "c.CBD_CDS"
   ]
  },
  {
   "cell_type": "code",
   "execution_count": 40,
   "metadata": {},
   "outputs": [
    {
     "data": {
      "text/plain": [
       "BLD_NM        38884\n",
       "GRND_FLR          0\n",
       "UGRND_FLR        12\n",
       "PNU               0\n",
       "ARCHAREA          1\n",
       "TOTALAREA         0\n",
       "PLATAREA         23\n",
       "HEIGHT            0\n",
       "USABILITY        26\n",
       "BC_RAT           27\n",
       "VL_RAT           29\n",
       "BLDRGST_PK       58\n",
       "USEAPR_DAY     1038\n",
       "REGIST_DAY      632\n",
       "BD_MGT_SN      3964\n",
       "COL_ADM_SE        0\n",
       "geometry          0\n",
       "dtype: int64"
      ]
     },
     "execution_count": 40,
     "metadata": {},
     "output_type": "execute_result"
    }
   ],
   "source": [
    "gdf = gpd.read_file(fpath, encoding = 'cp949')\n",
    "gdf = gdf[gdf['COL_ADM_SE'].isin(c.CBD_CDS)]\n",
    "gdf = gdf[gdf['PNU'] != '1165010200103970011'] # drop pnu 1165010200103970011\n",
    "BDM_COLS = ['BLD_NM', 'GRND_FLR', 'UGRND_FLR', 'PNU', 'ARCHAREA',\n",
    "       'TOTALAREA', 'PLATAREA', 'HEIGHT', 'USABILITY', 'BC_RAT',\n",
    "       'VL_RAT', 'BLDRGST_PK', 'USEAPR_DAY', 'REGIST_DAY', \n",
    "       'BD_MGT_SN','COL_ADM_SE', 'geometry']\n",
    "\n",
    "gdf = gdf[BDM_COLS]\n",
    "# gdf = gdf[gdf['USABILITY'] == '14000']\n",
    "gdf = gdf.to_crs(epsg=4326)\n",
    "gdf = gdf[gdf['GRND_FLR'] > 2]\n",
    "mean_height_ratio = gdf['HEIGHT'].div(gdf['GRND_FLR']).mean() # 평균 층고: height / grnd_flr -> 2.7677396663890717\n",
    "gdf['HEIGHT'].fillna(gdf['GRND_FLR'] * mean_height_ratio, inplace=True)\n",
    "gdf.loc[gdf['HEIGHT'] == 0.0, 'HEIGHT'] = gdf.loc[gdf['HEIGHT'] == 0.0, 'GRND_FLR'] * mean_height_ratio\n",
    "gdf.isnull().sum()"
   ]
  },
  {
   "cell_type": "code",
   "execution_count": 41,
   "metadata": {},
   "outputs": [],
   "source": [
    "gdf.to_csv('cbds.csv', index=False)"
   ]
  },
  {
   "cell_type": "code",
   "execution_count": 47,
   "metadata": {},
   "outputs": [],
   "source": [
    "scbd = gdf[gdf['COL_ADM_SE'].isin(c.SCBD_CDS)] \n",
    "gbd = gdf[gdf['COL_ADM_SE'].isin(c.GBD_CDS)] \n",
    "ybd = gdf[gdf['COL_ADM_SE'].isin(c.YBD_CDS)] \n",
    "scbd.to_csv('scbd.csv', index=False)\n",
    "gbd.to_csv('gbd.csv', index=False)\n",
    "ybd.to_csv('ybd.csv', index=False)"
   ]
  },
  {
   "attachments": {},
   "cell_type": "markdown",
   "metadata": {},
   "source": [
    "### SCBD"
   ]
  },
  {
   "cell_type": "code",
   "execution_count": 95,
   "metadata": {},
   "outputs": [],
   "source": [
    "cluster_gdf = pd.read_csv('scbd_clusters.csv')\n",
    "cluster_gdf['geometry_grids'] = cluster_gdf['geometry_grids'].apply(lambda x: loads(x))\n",
    "# Create a GeoDataFrame from the DataFrame\n",
    "cluster_gdf = gpd.GeoDataFrame(cluster_gdf, geometry='geometry_grids')\n",
    "# Set the original CRS to EPSG 5179\n",
    "cluster_gdf.crs = 'epsg:5179'\n",
    "# Reproject the GeoDataFrame to EPSG 4326\n",
    "cluster_gdf = cluster_gdf.to_crs('epsg:4326')\n",
    "cluster_gdf = cluster_gdf.drop('geometry', axis = 1)\n",
    "cluster_gdf = cluster_gdf[[col for col in cluster_gdf.columns if col != 'geometry_grids'] + ['geometry_grids']]"
   ]
  },
  {
   "cell_type": "code",
   "execution_count": 96,
   "metadata": {},
   "outputs": [],
   "source": [
    "cluster_gdf.to_csv('scbd_clusters_kepler.csv', index=False)"
   ]
  },
  {
   "attachments": {},
   "cell_type": "markdown",
   "metadata": {},
   "source": [
    "### GBD"
   ]
  },
  {
   "cell_type": "code",
   "execution_count": 89,
   "metadata": {},
   "outputs": [],
   "source": [
    "cluster_gdf = pd.read_csv('gbd_clusters.csv')\n",
    "cluster_gdf['geometry_grids'] = cluster_gdf['geometry_grids'].apply(lambda x: loads(x))\n",
    "# Create a GeoDataFrame from the DataFrame\n",
    "cluster_gdf = gpd.GeoDataFrame(cluster_gdf, geometry='geometry_grids')\n",
    "# Set the original CRS to EPSG 5179\n",
    "cluster_gdf.crs = 'epsg:5179'\n",
    "# Reproject the GeoDataFrame to EPSG 4326\n",
    "cluster_gdf = cluster_gdf.to_crs('epsg:4326')\n",
    "cluster_gdf = cluster_gdf.drop('geometry', axis = 1)\n",
    "cluster_gdf = cluster_gdf[[col for col in cluster_gdf.columns if col != 'geometry_grids'] + ['geometry_grids']]"
   ]
  },
  {
   "cell_type": "code",
   "execution_count": 90,
   "metadata": {},
   "outputs": [],
   "source": [
    "cluster_gdf.to_csv('gbd_clusters_kepler.csv', index=False)"
   ]
  },
  {
   "attachments": {},
   "cell_type": "markdown",
   "metadata": {},
   "source": [
    "### YBD"
   ]
  },
  {
   "cell_type": "code",
   "execution_count": 93,
   "metadata": {},
   "outputs": [],
   "source": [
    "cluster_gdf = pd.read_csv('ybd_clusters.csv')\n",
    "cluster_gdf['geometry_grids'] = cluster_gdf['geometry_grids'].apply(lambda x: loads(x))\n",
    "# Create a GeoDataFrame from the DataFrame\n",
    "cluster_gdf = gpd.GeoDataFrame(cluster_gdf, geometry='geometry_grids')\n",
    "# Set the original CRS to EPSG 5179\n",
    "cluster_gdf.crs = 'epsg:5179'\n",
    "# Reproject the GeoDataFrame to EPSG 4326\n",
    "cluster_gdf = cluster_gdf.to_crs('epsg:4326')\n",
    "cluster_gdf = cluster_gdf.drop('geometry', axis = 1)\n",
    "cluster_gdf = cluster_gdf[[col for col in cluster_gdf.columns if col != 'geometry_grids'] + ['geometry_grids']]"
   ]
  },
  {
   "cell_type": "code",
   "execution_count": 94,
   "metadata": {},
   "outputs": [],
   "source": [
    "cluster_gdf.to_csv('ybd_clusters_kepler.csv', index=False)"
   ]
  },
  {
   "cell_type": "code",
   "execution_count": null,
   "metadata": {},
   "outputs": [],
   "source": []
  }
 ],
 "metadata": {
  "kernelspec": {
   "display_name": "msd2",
   "language": "python",
   "name": "python3"
  },
  "language_info": {
   "codemirror_mode": {
    "name": "ipython",
    "version": 3
   },
   "file_extension": ".py",
   "mimetype": "text/x-python",
   "name": "python",
   "nbconvert_exporter": "python",
   "pygments_lexer": "ipython3",
   "version": "3.9.16"
  },
  "orig_nbformat": 4
 },
 "nbformat": 4,
 "nbformat_minor": 2
}
