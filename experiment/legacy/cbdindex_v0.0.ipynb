{
 "cells": [
  {
   "cell_type": "code",
   "execution_count": 279,
   "metadata": {},
   "outputs": [],
   "source": [
    "# for each grids, calculate CBD Index. CBD Index represents two;\n",
    "# 1. CBDness\n",
    "# 2. How each grid is similar to other grids in CBD Boundary\n",
    "\n",
    "# for example, suppose there is very high building with sufficient people, business factor((1)suffices), \n",
    "# but if that building is not similar to other buildings around((2)not suffices) CBD Index must show low\n",
    "# (=like Lionel messi in the amateur league, not in Ligue 1 league)"
   ]
  },
  {
   "attachments": {},
   "cell_type": "markdown",
   "metadata": {},
   "source": [
    "#### Import Lib"
   ]
  },
  {
   "cell_type": "code",
   "execution_count": 280,
   "metadata": {},
   "outputs": [],
   "source": [
    "import geopandas as gpd\n",
    "import pandas as pd\n",
    "import numpy as np\n",
    "from shapely.wkt import loads\n",
    "import constant as c\n",
    "from pyproj import CRS\n",
    "import sys;sys.path.append('../')\n",
    "from itertools import combinations\n",
    "from sklearn.preprocessing import StandardScaler\n",
    "import math\n",
    "import matplotlib.pyplot as plt\n",
    "import warnings; warnings.filterwarnings('ignore')\n",
    "from scipy.stats import norm"
   ]
  },
  {
   "cell_type": "code",
   "execution_count": 281,
   "metadata": {},
   "outputs": [],
   "source": [
    "# then read the data\n",
    "df_2020 = pd.read_csv('../asset/preprocess/df_2020.csv', index_col=0)\n",
    "df_2020['geometry_grids'] = df_2020['geometry_grids'].apply(lambda x: loads(x))\n",
    "df_2021 = pd.read_csv('../asset/preprocess/df_2021.csv', index_col=0)\n",
    "df_2021['geometry_grids'] = df_2021['geometry_grids'].apply(lambda x: loads(x))\n",
    "df_2022 = pd.read_csv('../asset/preprocess/df_2022.csv', index_col=0)\n",
    "df_2022['geometry_grids'] = df_2022['geometry_grids'].apply(lambda x: loads(x))\n",
    "\n",
    "crs = 'EPSG:5179'  # Specify the coordinate reference system\n",
    "gdf_2020 = gpd.GeoDataFrame(df_2020, geometry=df_2020['geometry_grids'], crs=crs)\n",
    "gdf_2021 = gpd.GeoDataFrame(df_2021, geometry=df_2021['geometry_grids'], crs=crs)\n",
    "gdf_2022 = gpd.GeoDataFrame(df_2022, geometry=df_2022['geometry_grids'], crs=crs)\n",
    "\n",
    "gdf_2020_scbd = gdf_2020[gdf_2020['sigungunm'].isin(c.SCBD_NMS)]\n",
    "gdf_2020_gbd = gdf_2020[gdf_2020['sigungunm'].isin(c.GBD_NMS)]\n",
    "gdf_2020_ybd = gdf_2020[gdf_2020['sigungunm'].isin(c.YBD_NMS)]\n",
    "gdf_2021_scbd = gdf_2021[gdf_2021['sigungunm'].isin(c.SCBD_NMS)]\n",
    "gdf_2021_gbd = gdf_2021[gdf_2021['sigungunm'].isin(c.GBD_NMS)]\n",
    "gdf_2021_ybd = gdf_2021[gdf_2021['sigungunm'].isin(c.YBD_NMS)]\n",
    "gdf_2022_scbd = gdf_2022[gdf_2022['sigungunm'].isin(c.SCBD_NMS)]\n",
    "gdf_2022_gbd = gdf_2022[gdf_2022['sigungunm'].isin(c.GBD_NMS)]\n",
    "gdf_2022_ybd = gdf_2022[gdf_2022['sigungunm'].isin(c.YBD_NMS)]"
   ]
  },
  {
   "cell_type": "code",
   "execution_count": 282,
   "metadata": {},
   "outputs": [],
   "source": [
    "# Setting COLS\n",
    "SIM_CAL_COLS = c.SIM_CAL_COLS\n",
    "STANDARDIZE_COLS = c.STANDARDIZE_COLS\n",
    "PP_COLS = c.PP_COLS\n",
    "BS_COLS = c.BS_COLS\n",
    "BD_COLS = c.BD_COLS"
   ]
  },
  {
   "attachments": {},
   "cell_type": "markdown",
   "metadata": {},
   "source": [
    "#### Experiment Settings / Get Data"
   ]
  },
  {
   "cell_type": "code",
   "execution_count": 325,
   "metadata": {},
   "outputs": [],
   "source": [
    "YEAR    = 2022\n",
    "CBD_NM  = \"gbd\""
   ]
  },
  {
   "cell_type": "code",
   "execution_count": 326,
   "metadata": {},
   "outputs": [
    {
     "name": "stdout",
     "output_type": "stream",
     "text": [
      "-2.7202931918175306\n"
     ]
    },
    {
     "data": {
      "text/plain": [
       "gwr_const        -3.107450\n",
       "gwr_bs_elct       0.030841\n",
       "gwr_bs_ebit      -1.150074\n",
       "gwr_bd_height     0.560496\n",
       "gwr_bd_vintage    0.618437\n",
       "gwr_pp_od         3.589284\n",
       "gwr_pp_pop       -1.326041\n",
       "dtype: float64"
      ]
     },
     "execution_count": 326,
     "metadata": {},
     "output_type": "execute_result"
    }
   ],
   "source": [
    "fname = f\"{CBD_NM}_{YEAR}.csv\"\n",
    "clus  = pd.read_csv(f'../asset/experiment/cluster/{fname}') \n",
    "gwrw  = pd.read_csv(f'../asset/experiment/gwr/{fname}')\n",
    "gwrw['geometry_grids'] = gwrw['geometry_grids'].apply(lambda x: loads(x))\n",
    "gwrw = gpd.GeoDataFrame(gwrw, geometry='geometry_grids')\n",
    "crs = CRS.from_epsg(5179)\n",
    "gwrw = gwrw.set_crs(crs)\n",
    "gdf_index = gwrw.copy()\n",
    "\n",
    "# get init gwrw(For init grids)\n",
    "init_grid_gdf = clus[clus['phase'] == 0]\n",
    "init_grid_idxs = list(init_grid_gdf.grid_idx.values.astype(int))\n",
    "init_gwrw = gwrw[gwrw['grid_idx'].isin(init_grid_idxs)]\n",
    "\n",
    "# get cluster gwrw(For all grids in cluster)\n",
    "grid_idxs = list(clus.grid_idx.values.astype(int))\n",
    "gwrw = gwrw[gwrw['grid_idx'].isin(grid_idxs)]\n",
    "\n",
    "# get init coefficient values\n",
    "col_nms = list(init_gwrw.columns)\n",
    "gwr_columns = [col for col in col_nms if col.startswith('gwr_')]\n",
    "gwr_columns.remove('gwr_r2') # we get only coef names\n",
    "coef = init_gwrw[gwr_columns].mean()\n",
    "print(coef.gwr_const + coef.values[1:].mean())\n",
    "coef"
   ]
  },
  {
   "attachments": {},
   "cell_type": "markdown",
   "metadata": {},
   "source": [
    "#### Calculate CBD Index"
   ]
  },
  {
   "cell_type": "code",
   "execution_count": 327,
   "metadata": {},
   "outputs": [],
   "source": [
    "# coef\n",
    "# gwrw.head(5)"
   ]
  },
  {
   "cell_type": "code",
   "execution_count": 328,
   "metadata": {},
   "outputs": [],
   "source": [
    "# 1) CBD Ness\n",
    "cbdnesses = []\n",
    "for i in range(len(gwrw)):   \n",
    "    row_data = gwrw.iloc[i]\n",
    "    cbdness = coef.gwr_const \n",
    "    for coef_col_nm in list(coef.index):\n",
    "        if coef_col_nm == 'gwr_const': \n",
    "            pass \n",
    "        else:\n",
    "            col_nm = coef_col_nm[4:]\n",
    "            cbdness += norm.cdf(row_data[col_nm]) * coef[coef_col_nm]\n",
    "            \n",
    "    # cbdness = max(cbdness, 0)\n",
    "    cbdnesses.append(cbdness)\n",
    "gwrw['cbdness'] = cbdnesses\n",
    "\n",
    "# 2) Similarity Index\n",
    "mean_gwrw = gwrw[STANDARDIZE_COLS].mean()\n",
    "abs_diffs = gwrw[STANDARDIZE_COLS].sub(mean_gwrw).abs()\n",
    "row_diffs = list(abs_diffs.mean(axis=1))\n",
    "row_sims = [math.exp(-diff/10) for diff in row_diffs]\n",
    "gwrw['sim'] = row_sims\n",
    "\n",
    "# 1) * 2) -> CBD Index \n",
    "gwrw['cbdi'] = gwrw['cbdness'] * gwrw['sim']\n",
    "gwrw['cbdi'] = gwrw['cbdi'] / gwrw['cbdi'].max() # scale from 0 to 1"
   ]
  },
  {
   "cell_type": "code",
   "execution_count": 329,
   "metadata": {},
   "outputs": [
    {
     "data": {
      "text/plain": [
       "<Axes: >"
      ]
     },
     "execution_count": 329,
     "metadata": {},
     "output_type": "execute_result"
    },
    {
     "data": {
      "image/png": "[encoded data removed]",
      "text/plain": [
       "<Figure size 640x480 with 1 Axes>"
      ]
     },
     "metadata": {},
     "output_type": "display_data"
    }
   ],
   "source": [
    "gwrw['cbdness'].hist()"
   ]
  },
  {
   "cell_type": "code",
   "execution_count": 321,
   "metadata": {},
   "outputs": [
    {
     "data": {
      "text/plain": [
       "1.0"
      ]
     },
     "execution_count": 321,
     "metadata": {},
     "output_type": "execute_result"
    }
   ],
   "source": [
    "gwrw['cbdi'].max()"
   ]
  },
  {
   "cell_type": "code",
   "execution_count": null,
   "metadata": {},
   "outputs": [],
   "source": []
  },
  {
   "cell_type": "code",
   "execution_count": null,
   "metadata": {},
   "outputs": [],
   "source": []
  },
  {
   "cell_type": "code",
   "execution_count": 311,
   "metadata": {},
   "outputs": [
    {
     "ename": "ValueError",
     "evalue": "max() arg is an empty sequence",
     "output_type": "error",
     "traceback": [
      "\u001b[0;31m---------------------------------------------------------------------------\u001b[0m",
      "\u001b[0;31mValueError\u001b[0m                                Traceback (most recent call last)",
      "Cell \u001b[0;32mIn[311], line 1\u001b[0m\n\u001b[0;32m----> 1\u001b[0m gwrw[[\u001b[39m'\u001b[39;49m\u001b[39mgrid_idx\u001b[39;49m\u001b[39m'\u001b[39;49m, \u001b[39m'\u001b[39;49m\u001b[39mgeometry_grids\u001b[39;49m\u001b[39m'\u001b[39;49m, \u001b[39m'\u001b[39;49m\u001b[39msim\u001b[39;49m\u001b[39m'\u001b[39;49m, \u001b[39m'\u001b[39;49m\u001b[39mcbdness\u001b[39;49m\u001b[39m'\u001b[39;49m, \u001b[39m'\u001b[39;49m\u001b[39mcbdi\u001b[39;49m\u001b[39m'\u001b[39;49m]]\u001b[39m.\u001b[39;49mexplore(column \u001b[39m=\u001b[39;49m \u001b[39m'\u001b[39;49m\u001b[39mcbdi\u001b[39;49m\u001b[39m'\u001b[39;49m, cmap \u001b[39m=\u001b[39;49m \u001b[39m'\u001b[39;49m\u001b[39mcoolwarm\u001b[39;49m\u001b[39m'\u001b[39;49m)\n",
      "File \u001b[0;32m~/anaconda3/envs/msd2/lib/python3.9/site-packages/geopandas/geodataframe.py:2102\u001b[0m, in \u001b[0;36mGeoDataFrame.explore\u001b[0;34m(self, *args, **kwargs)\u001b[0m\n\u001b[1;32m   2099\u001b[0m \u001b[39m@doc\u001b[39m(_explore)\n\u001b[1;32m   2100\u001b[0m \u001b[39mdef\u001b[39;00m \u001b[39mexplore\u001b[39m(\u001b[39mself\u001b[39m, \u001b[39m*\u001b[39margs, \u001b[39m*\u001b[39m\u001b[39m*\u001b[39mkwargs):\n\u001b[1;32m   2101\u001b[0m \u001b[39m    \u001b[39m\u001b[39m\"\"\"Interactive map based on folium/leaflet.js\"\"\"\u001b[39;00m\n\u001b[0;32m-> 2102\u001b[0m     \u001b[39mreturn\u001b[39;00m _explore(\u001b[39mself\u001b[39;49m, \u001b[39m*\u001b[39;49margs, \u001b[39m*\u001b[39;49m\u001b[39m*\u001b[39;49mkwargs)\n",
      "File \u001b[0;32m~/anaconda3/envs/msd2/lib/python3.9/site-packages/geopandas/explore.py:476\u001b[0m, in \u001b[0;36m_explore\u001b[0;34m(df, column, cmap, color, m, tiles, attr, tooltip, popup, highlight, categorical, legend, scheme, k, vmin, vmax, width, height, categories, classification_kwds, control_scale, marker_type, marker_kwds, style_kwds, highlight_kwds, missing_kwds, tooltip_kwds, popup_kwds, legend_kwds, map_kwds, **kwargs)\u001b[0m\n\u001b[1;32m    474\u001b[0m         \u001b[39melse\u001b[39;00m:\n\u001b[1;32m    475\u001b[0m             bins \u001b[39m=\u001b[39m np\u001b[39m.\u001b[39mlinspace(vmin, vmax, \u001b[39m257\u001b[39m)[\u001b[39m1\u001b[39m:]\n\u001b[0;32m--> 476\u001b[0m             binning \u001b[39m=\u001b[39m classify(\n\u001b[1;32m    477\u001b[0m                 np\u001b[39m.\u001b[39;49masarray(gdf[column][\u001b[39m~\u001b[39;49mnan_idx]), \u001b[39m\"\u001b[39;49m\u001b[39mUserDefined\u001b[39;49m\u001b[39m\"\u001b[39;49m, bins\u001b[39m=\u001b[39;49mbins\n\u001b[1;32m    478\u001b[0m             )\n\u001b[1;32m    480\u001b[0m             color \u001b[39m=\u001b[39m np\u001b[39m.\u001b[39mapply_along_axis(\n\u001b[1;32m    481\u001b[0m                 colors\u001b[39m.\u001b[39mto_hex,\n\u001b[1;32m    482\u001b[0m                 \u001b[39m1\u001b[39m,\n\u001b[1;32m    483\u001b[0m                 _colormap_helper(cmap, n_resample\u001b[39m=\u001b[39m\u001b[39m256\u001b[39m, idx\u001b[39m=\u001b[39mbinning\u001b[39m.\u001b[39myb),\n\u001b[1;32m    484\u001b[0m             )\n\u001b[1;32m    486\u001b[0m \u001b[39m# set default style\u001b[39;00m\n",
      "File \u001b[0;32m~/anaconda3/envs/msd2/lib/python3.9/site-packages/mapclassify/_classify_API.py:191\u001b[0m, in \u001b[0;36mclassify\u001b[0;34m(y, scheme, k, pct, pct_sampled, truncate, hinge, multiples, mindiff, initial, bins)\u001b[0m\n\u001b[1;32m    188\u001b[0m     classifier \u001b[39m=\u001b[39m _classifiers[scheme](y, k, initial)\n\u001b[1;32m    190\u001b[0m \u001b[39melif\u001b[39;00m scheme \u001b[39m==\u001b[39m \u001b[39m\"\u001b[39m\u001b[39muserdefined\u001b[39m\u001b[39m\"\u001b[39m:\n\u001b[0;32m--> 191\u001b[0m     classifier \u001b[39m=\u001b[39m _classifiers[scheme](y, bins)\n\u001b[1;32m    193\u001b[0m \u001b[39melif\u001b[39;00m scheme \u001b[39min\u001b[39;00m [\n\u001b[1;32m    194\u001b[0m     \u001b[39m\"\u001b[39m\u001b[39mequalinterval\u001b[39m\u001b[39m\"\u001b[39m,\n\u001b[1;32m    195\u001b[0m     \u001b[39m\"\u001b[39m\u001b[39mfisherjenks\u001b[39m\u001b[39m\"\u001b[39m,\n\u001b[0;32m   (...)\u001b[0m\n\u001b[1;32m    198\u001b[0m     \u001b[39m\"\u001b[39m\u001b[39mquantiles\u001b[39m\u001b[39m\"\u001b[39m,\n\u001b[1;32m    199\u001b[0m ]:\n\u001b[1;32m    200\u001b[0m     classifier \u001b[39m=\u001b[39m _classifiers[scheme](y, k)\n",
      "File \u001b[0;32m~/anaconda3/envs/msd2/lib/python3.9/site-packages/mapclassify/classifiers.py:2374\u001b[0m, in \u001b[0;36mUserDefined.__init__\u001b[0;34m(self, y, bins, lowest)\u001b[0m\n\u001b[1;32m   2373\u001b[0m \u001b[39mdef\u001b[39;00m \u001b[39m__init__\u001b[39m(\u001b[39mself\u001b[39m, y, bins, lowest\u001b[39m=\u001b[39m\u001b[39mNone\u001b[39;00m):\n\u001b[0;32m-> 2374\u001b[0m     \u001b[39mif\u001b[39;00m bins[\u001b[39m-\u001b[39m\u001b[39m1\u001b[39m] \u001b[39m<\u001b[39m \u001b[39mmax\u001b[39;49m(y):\n\u001b[1;32m   2375\u001b[0m         bins \u001b[39m=\u001b[39m np\u001b[39m.\u001b[39mappend(bins, \u001b[39mmax\u001b[39m(y))\n\u001b[1;32m   2376\u001b[0m     \u001b[39mself\u001b[39m\u001b[39m.\u001b[39mlowest \u001b[39m=\u001b[39m lowest\n",
      "\u001b[0;31mValueError\u001b[0m: max() arg is an empty sequence"
     ]
    }
   ],
   "source": [
    "gwrw[['grid_idx', 'geometry_grids', 'sim', 'cbdness', 'cbdi']].explore(column = 'cbdi', cmap = 'coolwarm')"
   ]
  },
  {
   "cell_type": "code",
   "execution_count": null,
   "metadata": {},
   "outputs": [],
   "source": []
  }
 ],
 "metadata": {
  "kernelspec": {
   "display_name": "msd2",
   "language": "python",
   "name": "python3"
  },
  "language_info": {
   "codemirror_mode": {
    "name": "ipython",
    "version": 3
   },
   "file_extension": ".py",
   "mimetype": "text/x-python",
   "name": "python",
   "nbconvert_exporter": "python",
   "pygments_lexer": "ipython3",
   "version": "3.9.16"
  },
  "orig_nbformat": 4
 },
 "nbformat": 4,
 "nbformat_minor": 2
}
