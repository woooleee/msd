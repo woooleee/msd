{
 "cells": [
  {
   "attachments": {},
   "cell_type": "markdown",
   "metadata": {},
   "source": [
    "### 0. Import Libs"
   ]
  },
  {
   "cell_type": "code",
   "execution_count": 1,
   "metadata": {},
   "outputs": [],
   "source": [
    "import pandas as pd \n",
    "import os \n",
    "import constant as c\n",
    "import sys\n",
    "sys.path.append('../')\n",
    "from util.get_coord_vw import GeoCoderVworld"
   ]
  },
  {
   "attachments": {},
   "cell_type": "markdown",
   "metadata": {},
   "source": [
    "### 1. Get all the data regarding building"
   ]
  },
  {
   "cell_type": "code",
   "execution_count": 2,
   "metadata": {},
   "outputs": [
    {
     "name": "stderr",
     "output_type": "stream",
     "text": [
      "/var/folders/ql/lx2yjbg126q9v8ykbp3cnfww0000gp/T/ipykernel_56333/2898056959.py:9: DtypeWarning: Columns (3,4,47,48) have mixed types. Specify dtype option on import or set low_memory=False.\n",
      "  title = pd.read_csv(title_path, encoding = 'cp949')\n",
      "/var/folders/ql/lx2yjbg126q9v8ykbp3cnfww0000gp/T/ipykernel_56333/2898056959.py:10: DtypeWarning: Columns (4,5) have mixed types. Specify dtype option on import or set low_memory=False.\n",
      "  jijigu = pd.read_csv(jijigu_path, encoding = 'cp949')\n"
     ]
    }
   ],
   "source": [
    "# We get all raw data for make data view\n",
    "ssd_path = c.SSD_PATH\n",
    "address_path = os.path.join(ssd_path, 'address_202304061732.csv')\n",
    "title_path = os.path.join(ssd_path, 'title_202304061735.csv')\n",
    "jijigu_path = os.path.join(ssd_path, 'jijigu_202304061738.csv')\n",
    "building_path = os.path.join(ssd_path, 'building_202304061737.csv')\n",
    "pnubjdcd_path = os.path.join(ssd_path, 'pnubjdcd.txt')\n",
    "address = pd.read_csv(address_path, encoding = 'cp949')\n",
    "title = pd.read_csv(title_path, encoding = 'cp949')\n",
    "jijigu = pd.read_csv(jijigu_path, encoding = 'cp949')\n",
    "building = pd.read_csv(building_path, encoding = 'cp949')\n",
    "pnubjdcd = pd.read_csv(pnubjdcd_path, encoding = 'cp949', sep =  '\\t')\n",
    "pnubjdcd = pnubjdcd[pnubjdcd['법정동명'].str.contains('서울특별시')]\n",
    "pnubjdcd = pnubjdcd[pnubjdcd['폐지여부'] == '존재']\n",
    "\n",
    "df_bd = pd.merge(address, building[['pnu', 'bdnm']], on = 'pnu')\n",
    "df_bd = pd.merge(df_bd, \\\n",
    "               title[['pnu', 'mainpurpscd', 'mainpurpscdnm', 'etcpurps', 'platarea', \\\n",
    "                'archarea', 'bcrat', 'totarea', 'vlrat', 'heit', 'grndflrcnt', 'ugrndflrcnt', \\\n",
    "                    'rideuseelvtcnt', 'emgenuseelvtcnt', 'useaprday']], on = 'pnu')\n",
    "df_bd = pd.merge(df_bd, \\\n",
    "                jijigu[(jijigu['jijigugbcdnm'] == '용도지역코드')&(jijigu['repryn'] == 1)][['pnu', 'jijigucdnm']], on = 'pnu') # 용도지역코드만 따오고 대표여부가 참(=1)인 데이터만\n",
    "df_bd = df_bd[df_bd['sigungunm'].isin(c.CBD_NMS)]\n",
    "df_bd = df_bd[df_bd['heit'] > 10] # building taller than 10m\n",
    "df_bd = df_bd.drop_duplicates(subset=['pnu'], keep='first')\n",
    "df_bd = df_bd[df_bd['mainpurpscd'].isin(c.MAINPURPSCD_IN_INTEREST)]\n",
    "df_bd = df_bd.sort_values(by=['pnu'], ascending=False)\n",
    "\n",
    "gcw = GeoCoderVworld() # Class declaration for getting coordinates\n",
    "xs = []\n",
    "ys = []\n",
    "for i in range(len(df_bd['newplatplc'])):\n",
    "    addr = df_bd.iloc[i].newplatplc\n",
    "    x, y = gcw.AddrToCoord(addr)\n",
    "    xs.append(x)\n",
    "    ys.append(y)\n",
    "\n",
    "df_bd['x'] = xs \n",
    "df_bd['y'] = ys"
   ]
  },
  {
   "attachments": {},
   "cell_type": "markdown",
   "metadata": {},
   "source": [
    "### 2. Get individual Land Price"
   ]
  },
  {
   "cell_type": "code",
   "execution_count": 3,
   "metadata": {},
   "outputs": [
    {
     "name": "stderr",
     "output_type": "stream",
     "text": [
      "/var/folders/ql/lx2yjbg126q9v8ykbp3cnfww0000gp/T/ipykernel_56333/364585105.py:2: DtypeWarning: Columns (0) have mixed types. Specify dtype option on import or set low_memory=False.\n",
      "  ilp = pd.read_csv(ilp_path, encoding = 'cp949')\n"
     ]
    }
   ],
   "source": [
    "ilp_path = os.path.join(ssd_path, 'AL_11_D151_20230320.csv')\n",
    "ilp = pd.read_csv(ilp_path, encoding = 'cp949')\n",
    "ilp = ilp[ilp['기준연도'].isin([2019, 2020, 2021, 2022])]\n",
    "ilp['법정동코드_str']= ilp['법정동코드'].astype(str)\n",
    "ilp['구'] = ilp['법정동코드_str'].str.slice(0, 5)\n",
    "\n",
    "# Get ilp data for four years\n",
    "merged2019 = df_bd.merge(ilp[ilp['기준연도'] == 2019][['고유번호', '기준연도', '공시지가']], left_on='pnu', right_on='고유번호')\n",
    "merged2019 = merged2019.rename(columns={'공시지가': 'ilp2019'})\n",
    "merged2019 = merged2019.drop(['기준연도', '고유번호'], axis=1)\n",
    "\n",
    "merged2020 = merged2019.merge(ilp[ilp['기준연도'] == 2020][['고유번호', '기준연도', '공시지가']], left_on='pnu', right_on='고유번호')\n",
    "merged2020 = merged2020.rename(columns={'공시지가': 'ilp2020'})\n",
    "merged2020 = merged2020.drop(['기준연도', '고유번호'], axis=1)\n",
    "\n",
    "merged2021 = merged2020.merge(ilp[ilp['기준연도'] == 2021][['고유번호', '기준연도', '공시지가']], left_on='pnu', right_on='고유번호')\n",
    "merged2021 = merged2021.rename(columns={'공시지가': 'ilp2021'})\n",
    "merged2021 = merged2021.drop(['기준연도', '고유번호'], axis=1)\n",
    "\n",
    "merged2022 = merged2021.merge(ilp[ilp['기준연도'] == 2022][['고유번호', '기준연도', '공시지가']], left_on='pnu', right_on='고유번호')\n",
    "merged2022 = merged2022.rename(columns={'공시지가': 'ilp2022'})\n",
    "merged2022 = merged2022.drop(['기준연도', '고유번호'], axis=1)\n",
    "\n",
    "del merged2019, merged2020, merged2021\n",
    "df_bd = merged2022.copy()\n",
    "df_bd.to_csv(\"../asset/preprocess/features/df_bd.csv\")\n",
    "del merged2022"
   ]
  },
  {
   "cell_type": "code",
   "execution_count": 4,
   "metadata": {},
   "outputs": [],
   "source": [
    "# Read df_bd\n",
    "df_bd = pd.read_csv(\"../asset/preprocess/features/df_bd.csv\", index_col = 0)"
   ]
  }
 ],
 "metadata": {
  "kernelspec": {
   "display_name": "msd",
   "language": "python",
   "name": "python3"
  },
  "language_info": {
   "codemirror_mode": {
    "name": "ipython",
    "version": 3
   },
   "file_extension": ".py",
   "mimetype": "text/x-python",
   "name": "python",
   "nbconvert_exporter": "python",
   "pygments_lexer": "ipython3",
   "version": "3.9.16"
  },
  "orig_nbformat": 4
 },
 "nbformat": 4,
 "nbformat_minor": 2
}
