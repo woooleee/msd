{
 "cells": [
  {
   "attachments": {},
   "cell_type": "markdown",
   "metadata": {},
   "source": [
    "### 0. Modules"
   ]
  },
  {
   "cell_type": "code",
   "execution_count": 2,
   "metadata": {},
   "outputs": [],
   "source": [
    "# import modules\n",
    "import os\n",
    "import pandas as pd\n",
    "import sys\n",
    "sys.path.append('../')\n",
    "from util.get_coord_vw import GeoCoderVworld\n",
    "import constant as c"
   ]
  },
  {
   "attachments": {},
   "cell_type": "markdown",
   "metadata": {},
   "source": [
    "### 1. Corporation Info"
   ]
  },
  {
   "cell_type": "code",
   "execution_count": 2,
   "metadata": {},
   "outputs": [],
   "source": [
    "# Corporation code procurement - location, industry code\n",
    "df_corp_code = pd.read_csv('../asset/preprocess/etcs/corp_code_valid.csv', header= 0, index_col=0, dtype= {'corp_code': str, 'corp_name': str, 'stock_code': str, 'valid': bool})\n",
    "df_corp_code = df_corp_code[df_corp_code['valid'] == True]\n",
    "\n",
    "# Corporation info(crawled from API) data concat\n",
    "corp_info_crawled_path = '../asset/preprocess/industry/'\n",
    "corp_files = os.listdir(corp_info_crawled_path)\n",
    "dfs = []\n",
    "dtype_dict = {\n",
    "    'cc': str,\n",
    "    'est_dt': str,\n",
    "    'induty_code': str,\n",
    "    'address': str,\n",
    "    'index': int\n",
    "}\n",
    "for filename in corp_files:\n",
    "    df = pd.read_csv(os.path.join(corp_info_crawled_path, filename), header=0, dtype=dtype_dict)\n",
    "    dfs.append(df)\n",
    "df_corp_info = pd.concat(dfs, axis=0, ignore_index=True) \n",
    "df_corp_info = df_corp_info.drop('Unnamed: 0', axis=1)\n",
    "df_corp_info = df_corp_info.sort_values(by='index', ascending= True)\n",
    "\n",
    "# concat two dfs\n",
    "df_corp = pd.merge(df_corp_info, df_corp_code, how='outer', left_on= 'cc', right_on= 'corp_code')\n",
    "to_erase_cols = ['valid', 'index', 'modify_date']\n",
    "df_corp = df_corp.drop(columns=to_erase_cols)"
   ]
  },
  {
   "attachments": {},
   "cell_type": "markdown",
   "metadata": {},
   "source": [
    "### 2. FSS Financial Data"
   ]
  },
  {
   "cell_type": "code",
   "execution_count": 4,
   "metadata": {},
   "outputs": [
    {
     "name": "stderr",
     "output_type": "stream",
     "text": [
      "/var/folders/ql/lx2yjbg126q9v8ykbp3cnfww0000gp/T/ipykernel_51898/1200458499.py:28: FutureWarning: The default value of regex will change from True to False in a future version.\n",
      "  df_is['종목코드'] = df_is['종목코드'].str.replace(r'\\[|\\]', '')\n"
     ]
    }
   ],
   "source": [
    "# https://opendart.fss.or.kr/disclosureinfo/fnltt/dwld/main.do\n",
    "# 2021 사업보고서(202203 발표) -> 2022에 적용 \n",
    "# 2020 사업보고서(202103 발표) -> 2021에 적용 \n",
    "# 2019 사업보고서(202003 발표) -> 2020에 적용 \n",
    "\n",
    "df1path = '/Volumes/T7/asset/corpis/2021_4Q_PL_20230509040149/2021_KOSDAQ_consolidated.txt'\n",
    "df2path = '/Volumes/T7/asset/corpis/2021_4Q_PL_20230509040149/2021_KOSPI_consolidated.txt'\n",
    "df1 = pd.read_csv(df1path, encoding='cp949', sep = '\\t')\n",
    "df1 = df1.filter(regex='^(?!Unnamed)')\n",
    "df1 = df1[df1['항목코드'] == 'dart_OperatingIncomeLoss']\n",
    "rename_cols = {\n",
    "    '당기': '2022',\n",
    "    '전기': '2021',\n",
    "    '전전기': '2020'\n",
    "}\n",
    "df1 = df1.rename(columns=rename_cols)\n",
    "interested_cols = ['종목코드', '회사명', '시장구분', '업종', '업종명', '항목명', '2022', '2021', '2020']\n",
    "df1 = df1[interested_cols]\n",
    "\n",
    "df2 = pd.read_csv(df2path, encoding='cp949', sep = '\\t')\n",
    "df2 = df2.filter(regex='^(?!Unnamed)')\n",
    "df2 = df2[df2['항목코드'] == 'dart_OperatingIncomeLoss']\n",
    "df2 = df2.rename(columns=rename_cols)\n",
    "interested_cols = ['종목코드', '회사명', '시장구분', '업종', '업종명', '항목명', '2022', '2021', '2020']\n",
    "df2 = df2[interested_cols]\n",
    "\n",
    "df_is = pd.concat([df1, df2], axis = 0)\n",
    "df_is['종목코드'] = df_is['종목코드'].str.replace(r'\\[|\\]', '')\n",
    "\n",
    "# concat df_corp and df_is\n",
    "df_corpis = pd.merge(df_is, df_corp, how = 'inner', left_on = '종목코드', right_on ='stock_code')\n",
    "\n",
    "# Getting gu data in interest\n",
    "df_corpis[['rlgnm', 'gu', 'other']] = df_corpis['address'].str.split(' ', n=2, expand=True)\n",
    "df_corpis = df_corpis.drop(columns='other')\n",
    "int_gu_nm = c.CBD_NMS # ['강남구', '서초구', '중구', '종로구', '영등포구']\n",
    "cond = df_corpis['gu'].isin(int_gu_nm)\n",
    "df_corpis = df_corpis[cond]\n",
    "\n",
    "# Class declaration\n",
    "gcw = GeoCoderVworld()\n",
    "xs = []\n",
    "ys = []\n",
    "for i in range(len(df_corpis['address'])):\n",
    "# for i in range(10):\n",
    "    addr = df_corpis.iloc[i].address\n",
    "    x, y = gcw.AddrToCoord(addr)\n",
    "    xs.append(x)\n",
    "    ys.append(y)\n",
    "\n",
    "df_corpis['x'] = xs \n",
    "df_corpis['y'] = ys\n",
    "df_corpis.to_csv('../asset/preprocess/features/df_corpis.csv')"
   ]
  },
  {
   "cell_type": "code",
   "execution_count": 3,
   "metadata": {},
   "outputs": [],
   "source": [
    "# Read df_corpis\n",
    "df_corpis = pd.read_csv('../asset/preprocess/features/df_corpis.csv', index_col = 0)"
   ]
  }
 ],
 "metadata": {
  "kernelspec": {
   "display_name": "msd",
   "language": "python",
   "name": "python3"
  },
  "language_info": {
   "codemirror_mode": {
    "name": "ipython",
    "version": 3
   },
   "file_extension": ".py",
   "mimetype": "text/x-python",
   "name": "python",
   "nbconvert_exporter": "python",
   "pygments_lexer": "ipython3",
   "version": "3.9.16"
  },
  "orig_nbformat": 4
 },
 "nbformat": 4,
 "nbformat_minor": 2
}
