{
 "cells": [
  {
   "attachments": {},
   "cell_type": "markdown",
   "metadata": {},
   "source": [
    "### 0. Import Libs"
   ]
  },
  {
   "cell_type": "code",
   "execution_count": 1,
   "metadata": {},
   "outputs": [],
   "source": [
    "# kernel must be msd2\n",
    "import sys;sys.path.append('../')\n",
    "import os\n",
    "import pandas as pd\n",
    "import constant as c\n",
    "import csv\n",
    "import re\n",
    "from util.epsg_transform import *\n",
    "from shapely.geometry import *"
   ]
  },
  {
   "attachments": {},
   "cell_type": "markdown",
   "metadata": {},
   "source": [
    "### 1. Get Data"
   ]
  },
  {
   "cell_type": "code",
   "execution_count": 2,
   "metadata": {},
   "outputs": [],
   "source": [
    "data_nm = 'popse'\n",
    "dataset_nm = 'popse.csv'\n",
    "data_path = os.path.join(c.SSD_PATH, data_nm, dataset_nm)\n",
    "popse = pd.read_csv(data_path, quoting=csv.QUOTE_NONE, encoding = 'cp949')\n",
    "popse.columns = c.POPSE_GEN_COLS\n",
    "popse = popse.drop(columns = \"NN\")\n",
    "popse = popse.applymap(lambda x: x.strip('\"') if isinstance(x, str) else x)\n",
    "popse = popse[popse['단위'] == '명']\n",
    "popse = popse[popse['구분별'] == '합계']\n",
    "popse = popse.drop(columns=['구분별', '항목','단위'])\n",
    "sggbjds = []\n",
    "gu_nm = ''\n",
    "for i in range(len(popse)):\n",
    "    word = popse.iloc[i]['동별']\n",
    "    if word[-1] == '구':\n",
    "        gu_nm = word\n",
    "        sggbjds.append(gu_nm)\n",
    "    else:\n",
    "        sggbjds.append(f'{gu_nm} {word}')\n",
    "popse['구동명'] = sggbjds\n",
    "int_cols = ['구동명', '202001', '202101', '202201']\n",
    "popse = popse[int_cols]"
   ]
  },
  {
   "attachments": {},
   "cell_type": "markdown",
   "metadata": {},
   "source": [
    "### 2. Get Coordinates"
   ]
  },
  {
   "cell_type": "code",
   "execution_count": 3,
   "metadata": {},
   "outputs": [],
   "source": [
    "admdongxy_path = os.path.join(c.SSD_PATH, 'admdong_coord.xlsx')\n",
    "admdongxy = pd.read_excel(admdongxy_path, sheet_name = '서울특별시') #, encoding = 'utf-8')\n",
    "def remove_je(string):\n",
    "    return re.sub(r'제(\\d+)', r'\\1', string)\n",
    "admdongxy['읍면동/구'] = admdongxy['읍면동/구'].astype(str)\n",
    "admdongxy['읍면동/구'] = admdongxy['읍면동/구'].apply(remove_je)\n",
    "admdongxy = admdongxy[admdongxy['읍면동/구'] != 'nan']\n",
    "admdongxy['구동명'] = admdongxy['시군구'] + ' ' + admdongxy['읍면동/구']\n",
    "df_popse = pd.merge(popse, admdongxy, on = '구동명', how = 'left')\n",
    "df_popse = df_popse[['시군구', '읍면동/구', '구동명', '202001', '202101', '202201', '위도', '경도']]\n",
    "df_popse = df_popse.rename(columns={'위도': 'y', '경도': 'x', '시군구': 'sgg_nm', '읍면동/구': 'bjd_nm', '구동명': 'sggbjd_nm'})\n",
    "df_popse = df_popse.dropna(subset=['bjd_nm'])\n",
    "df_popse['x'] = pd.to_numeric(df_popse['x'], errors='coerce')\n",
    "df_popse['y'] = pd.to_numeric(df_popse['y'], errors='coerce')\n",
    "x_5179, y_5179 = coord_tranformation(list(df_popse.x), list(df_popse.y), \"epsg:4326\", \"epsg:5179\")\n",
    "df_popse['x_5179'] = x_5179\n",
    "df_popse['y_5179'] = y_5179\n",
    "df_popse.to_csv('../asset/preprocess/features/df_popse.csv')"
   ]
  },
  {
   "cell_type": "code",
   "execution_count": 4,
   "metadata": {},
   "outputs": [],
   "source": [
    "# Read df_popse\n",
    "df_popse = pd.read_csv('../asset/preprocess/features/df_popse.csv', index_col = 0)"
   ]
  }
 ],
 "metadata": {
  "kernelspec": {
   "display_name": "msd",
   "language": "python",
   "name": "python3"
  },
  "language_info": {
   "codemirror_mode": {
    "name": "ipython",
    "version": 3
   },
   "file_extension": ".py",
   "mimetype": "text/x-python",
   "name": "python",
   "nbconvert_exporter": "python",
   "pygments_lexer": "ipython3",
   "version": "3.9.16"
  },
  "orig_nbformat": 4
 },
 "nbformat": 4,
 "nbformat_minor": 2
}
