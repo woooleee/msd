{
 "cells": [
  {
   "attachments": {},
   "cell_type": "markdown",
   "metadata": {},
   "source": [
    "### 0. Import Libs"
   ]
  },
  {
   "cell_type": "code",
   "execution_count": 1,
   "metadata": {},
   "outputs": [],
   "source": [
    "# kernel must be msd2\n",
    "import sys;sys.path.append('../')\n",
    "import constant as c\n",
    "import os\n",
    "import pandas as pd\n",
    "import warnings; warnings.filterwarnings(\"ignore\")\n",
    "from util.epsg_transform import *\n",
    "from shapely.geometry import *"
   ]
  },
  {
   "attachments": {},
   "cell_type": "markdown",
   "metadata": {},
   "source": [
    "### 1. Get Metro Data"
   ]
  },
  {
   "cell_type": "code",
   "execution_count": 6,
   "metadata": {},
   "outputs": [],
   "source": [
    "# get metro origin/destination df\n",
    "metro_folder_path = os.path.join(c.SSD_PATH,'metro')\n",
    "metro_fname = '서울시 지하철 호선별 역별 시간대별 승하차 인원 정보.csv'\n",
    "metro_path = os.path.join(metro_folder_path, metro_fname)\n",
    "metro = pd.read_csv(metro_path, encoding = 'euc-kr')\n",
    "yyyymms = ['202001', '202101', '202201']\n",
    "metro = metro[metro['사용월'].isin([202001, 202101, 202201])]\n",
    "metro = metro.drop(columns='작업일자')\n",
    "metro['지하철역'] = metro['지하철역'].str.replace(r'\\s*\\([^)]*\\)', '')\n",
    "\n",
    "# get metro location df\n",
    "metroloc_fname = 'metroloc.csv'\n",
    "metroloc_path = os.path.join(metro_folder_path, metroloc_fname)\n",
    "metroloc = pd.read_csv(metroloc_path, encoding = 'utf-8')\n",
    "metroloc['name'] = metroloc['name'].apply(lambda x:x.strip('\"'))\n",
    "metroloc['line'] = metroloc['line'].apply(lambda x:x.strip('\"'))\n",
    "metroloc['line'] = metroloc['line'].str.lstrip('0')\n",
    "metroloc = metroloc.rename(columns = {'lat': 'y', 'lng': 'x', 'line': '호선명', 'name': '지하철역'})\n",
    "metroloc['x'] = pd.to_numeric(metroloc['x'], errors='coerce')\n",
    "metroloc['y'] = pd.to_numeric(metroloc['y'], errors='coerce')\n",
    "\n",
    "# merge two dfs\n",
    "df_metro = pd.merge(metro, metroloc, on = ['호선명', '지하철역'])\n",
    "df_metro['사용월'] = df_metro['사용월'].astype(str)\n",
    "df_metro['year'] = df_metro['사용월'].str[:4]\n",
    "\n",
    "\n",
    "x_5179, y_5179 = coord_tranformation(list(df_metro.x), list(df_metro.y), \"epsg:4326\", \"epsg:5179\")\n",
    "df_metro['x_5179'] = x_5179\n",
    "df_metro['y_5179'] = y_5179\n",
    "\n",
    "df_metro = df_metro.rename(columns=c.DF_METRO_COL_AMEND_DICT)\n",
    "df_metro.to_csv('../asset/preprocess/features/df_metro.csv')\n"
   ]
  },
  {
   "cell_type": "code",
   "execution_count": 3,
   "metadata": {},
   "outputs": [],
   "source": [
    "# Read df_metro\n",
    "df_metro = pd.read_csv('../asset/preprocess/features/df_metro.csv', index_col = 0)"
   ]
  }
 ],
 "metadata": {
  "kernelspec": {
   "display_name": "msd",
   "language": "python",
   "name": "python3"
  },
  "language_info": {
   "codemirror_mode": {
    "name": "ipython",
    "version": 3
   },
   "file_extension": ".py",
   "mimetype": "text/x-python",
   "name": "python",
   "nbconvert_exporter": "python",
   "pygments_lexer": "ipython3",
   "version": "3.9.16"
  },
  "orig_nbformat": 4
 },
 "nbformat": 4,
 "nbformat_minor": 2
}
